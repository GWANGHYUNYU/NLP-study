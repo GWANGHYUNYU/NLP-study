{
 "metadata": {
  "language_info": {
   "codemirror_mode": {
    "name": "ipython",
    "version": 3
   },
   "file_extension": ".py",
   "mimetype": "text/x-python",
   "name": "python",
   "nbconvert_exporter": "python",
   "pygments_lexer": "ipython3",
   "version": "3.7.7-final"
  },
  "orig_nbformat": 2,
  "kernelspec": {
   "name": "python3",
   "display_name": "Python 3"
  }
 },
 "nbformat": 4,
 "nbformat_minor": 2,
 "cells": [
  {
   "cell_type": "code",
   "execution_count": 4,
   "metadata": {
    "tags": []
   },
   "outputs": [
    {
     "output_type": "stream",
     "name": "stderr",
     "text": "120000lines [00:07, 15359.54lines/s]\n120000lines [00:17, 6756.04lines/s]\n7600lines [00:01, 7474.85lines/s]\n"
    }
   ],
   "source": [
    "from __future__ import print_function\n",
    "import torch\n",
    "import torchtext\n",
    "from torchtext.datasets import text_classification\n",
    "NGRAMS = 3\n",
    "import os\n",
    "if not os.path.isdir('data'):\n",
    "    os.mkdir('data')\n",
    "train_dataset, test_dataset = text_classification.DATASETS['AG_NEWS'](root='data', ngrams=NGRAMS, vocab=None)\n",
    "BATCH_SIZE = 16\n",
    "device = torch.device(\"cuda\" if torch.cuda.is_available() else \"cpu\")"
   ]
  },
  {
   "cell_type": "code",
   "execution_count": 5,
   "metadata": {},
   "outputs": [],
   "source": [
    "import torch.nn as nn\n",
    "import torch.nn.functional as F\n",
    "class TextSentiment(nn.Module):\n",
    "    def __init__(self, vocab_size, embed_dim, num_class):\n",
    "        super().__init__()\n",
    "        self.embedding = nn.EmbeddingBag(vocab_size, embed_dim, sparse=True)\n",
    "        self.fc = nn.Linear(embed_dim, num_class)\n",
    "        self.init_weights()\n",
    "\n",
    "    def init_weights(self):\n",
    "        initrange = 0.5\n",
    "        self.embedding.weight.data.uniform_(-initrange, initrange)\n",
    "        self.fc.weight.data.uniform_(-initrange, initrange)\n",
    "        self.fc.bias.data.zero_()\n",
    "\n",
    "    def forward(self, text, offsets):\n",
    "        embedded = self.embedding(text, offsets)\n",
    "        return self.fc(embedded)"
   ]
  },
  {
   "cell_type": "code",
   "execution_count": 6,
   "metadata": {
    "tags": []
   },
   "outputs": [],
   "source": [
    "VOCAB_SIZE = len(train_dataset.get_vocab())\n",
    "EMBED_DIM = 32\n",
    "NUN_CLASS = len(train_dataset.get_labels())\n",
    "model = TextSentiment(VOCAB_SIZE, EMBED_DIM, NUN_CLASS).to(device)"
   ]
  },
  {
   "cell_type": "code",
   "execution_count": 7,
   "metadata": {},
   "outputs": [],
   "source": [
    "def generate_batch(batch):\n",
    "    label = torch.tensor([entry[0] for entry in batch])\n",
    "    text = [entry[1] for entry in batch]\n",
    "    offsets = [0] + [len(entry) for entry in text]\n",
    "    # torch.Tensor.cumsum returns the cumulative sum\n",
    "    # of elements in the dimension dim.\n",
    "    # torch.Tensor([1.0, 2.0, 3.0]).cumsum(dim=0)\n",
    "\n",
    "    offsets = torch.tensor(offsets[:-1]).cumsum(dim=0)\n",
    "    text = torch.cat(text)\n",
    "    return text, offsets, label"
   ]
  },
  {
   "cell_type": "code",
   "execution_count": 8,
   "metadata": {},
   "outputs": [],
   "source": [
    "from torch.utils.data import DataLoader\n",
    "\n",
    "def train_func(sub_train_):\n",
    "\n",
    "    # Train the model\n",
    "    train_loss = 0\n",
    "    train_acc = 0\n",
    "    data = DataLoader(sub_train_, batch_size=BATCH_SIZE, shuffle=True,\n",
    "                      collate_fn=generate_batch)\n",
    "    for i, (text, offsets, cls) in enumerate(data):\n",
    "        optimizer.zero_grad()\n",
    "        text, offsets, cls = text.to(device), offsets.to(device), cls.to(device)\n",
    "        output = model(text, offsets)\n",
    "        loss = criterion(output, cls)\n",
    "        train_loss += loss.item()\n",
    "        loss.backward()\n",
    "        optimizer.step()\n",
    "        train_acc += (output.argmax(1) == cls).sum().item()\n",
    "\n",
    "    # Adjust the learning rate\n",
    "    scheduler.step()\n",
    "\n",
    "    return train_loss / len(sub_train_), train_acc / len(sub_train_)\n",
    "\n",
    "def test(data_):\n",
    "    loss = 0\n",
    "    acc = 0\n",
    "    data = DataLoader(data_, batch_size=BATCH_SIZE, collate_fn=generate_batch)\n",
    "    for text, offsets, cls in data:\n",
    "        text, offsets, cls = text.to(device), offsets.to(device), cls.to(device)\n",
    "        with torch.no_grad():\n",
    "            output = model(text, offsets)\n",
    "            loss = criterion(output, cls)\n",
    "            loss += loss.item()\n",
    "            acc += (output.argmax(1) == cls).sum().item()\n",
    "\n",
    "    return loss / len(data_), acc / len(data_)"
   ]
  },
  {
   "cell_type": "code",
   "execution_count": 9,
   "metadata": {
    "tags": [
     "outputPrepend"
    ]
   },
   "outputs": [
    {
     "output_type": "stream",
     "name": "stdout",
     "text": ")\ntorch.Size([2124])\ntorch.Size([2133])\ntorch.Size([1815])\ntorch.Size([1977])\ntorch.Size([2037])\ntorch.Size([2295])\ntorch.Size([1953])\ntorch.Size([1917])\ntorch.Size([2103])\ntorch.Size([2124])\ntorch.Size([2151])\ntorch.Size([2124])\ntorch.Size([1896])\ntorch.Size([1767])\ntorch.Size([1998])\ntorch.Size([1980])\ntorch.Size([2130])\ntorch.Size([2007])\ntorch.Size([2028])\ntorch.Size([1878])\ntorch.Size([2187])\ntorch.Size([2106])\ntorch.Size([2064])\ntorch.Size([2085])\ntorch.Size([2160])\ntorch.Size([1926])\ntorch.Size([2025])\ntorch.Size([1878])\ntorch.Size([2058])\ntorch.Size([2049])\ntorch.Size([1986])\ntorch.Size([1866])\ntorch.Size([2112])\ntorch.Size([1953])\ntorch.Size([1950])\ntorch.Size([1875])\ntorch.Size([1893])\ntorch.Size([2106])\ntorch.Size([1989])\ntorch.Size([1983])\ntorch.Size([2193])\ntorch.Size([2001])\ntorch.Size([1923])\ntorch.Size([1998])\ntorch.Size([2190])\ntorch.Size([2067])\ntorch.Size([2004])\ntorch.Size([2094])\ntorch.Size([1899])\ntorch.Size([2193])\ntorch.Size([2220])\ntorch.Size([2367])\ntorch.Size([2067])\ntorch.Size([1968])\ntorch.Size([1773])\ntorch.Size([2079])\ntorch.Size([1929])\ntorch.Size([1806])\ntorch.Size([2058])\ntorch.Size([2013])\ntorch.Size([1902])\ntorch.Size([1971])\ntorch.Size([1992])\ntorch.Size([1923])\ntorch.Size([1890])\ntorch.Size([1899])\ntorch.Size([1809])\ntorch.Size([2091])\ntorch.Size([2001])\ntorch.Size([2070])\ntorch.Size([1887])\ntorch.Size([2670])\ntorch.Size([1875])\ntorch.Size([2010])\ntorch.Size([2013])\ntorch.Size([1887])\ntorch.Size([1854])\ntorch.Size([2067])\ntorch.Size([2256])\ntorch.Size([1878])\ntorch.Size([2049])\ntorch.Size([2052])\ntorch.Size([2151])\ntorch.Size([2199])\ntorch.Size([2028])\ntorch.Size([2046])\ntorch.Size([1833])\ntorch.Size([2073])\ntorch.Size([2220])\ntorch.Size([1947])\ntorch.Size([1875])\ntorch.Size([1938])\ntorch.Size([2109])\ntorch.Size([2058])\ntorch.Size([1908])\ntorch.Size([1977])\ntorch.Size([1986])\ntorch.Size([1848])\ntorch.Size([2151])\ntorch.Size([2172])\ntorch.Size([2073])\ntorch.Size([2127])\ntorch.Size([1884])\ntorch.Size([2073])\ntorch.Size([1977])\ntorch.Size([1812])\ntorch.Size([2064])\ntorch.Size([1992])\ntorch.Size([2142])\ntorch.Size([2043])\ntorch.Size([2007])\ntorch.Size([1773])\ntorch.Size([1743])\ntorch.Size([2301])\ntorch.Size([2091])\ntorch.Size([2058])\ntorch.Size([2316])\ntorch.Size([2163])\ntorch.Size([2121])\ntorch.Size([2184])\ntorch.Size([2064])\ntorch.Size([2025])\ntorch.Size([2031])\ntorch.Size([2325])\ntorch.Size([1788])\ntorch.Size([2037])\ntorch.Size([1947])\ntorch.Size([1968])\ntorch.Size([1866])\ntorch.Size([1875])\ntorch.Size([1941])\ntorch.Size([1932])\ntorch.Size([2103])\ntorch.Size([2100])\ntorch.Size([2040])\ntorch.Size([1995])\ntorch.Size([1998])\ntorch.Size([2070])\ntorch.Size([2079])\ntorch.Size([1911])\ntorch.Size([1845])\ntorch.Size([1950])\ntorch.Size([1881])\ntorch.Size([1896])\ntorch.Size([1833])\ntorch.Size([2106])\ntorch.Size([1920])\ntorch.Size([2043])\ntorch.Size([2085])\ntorch.Size([1965])\ntorch.Size([1869])\ntorch.Size([1965])\ntorch.Size([2112])\ntorch.Size([2199])\ntorch.Size([1920])\ntorch.Size([1977])\ntorch.Size([2292])\ntorch.Size([2256])\ntorch.Size([1998])\ntorch.Size([1908])\ntorch.Size([2229])\ntorch.Size([1986])\ntorch.Size([1986])\ntorch.Size([2238])\ntorch.Size([2019])\ntorch.Size([1812])\ntorch.Size([2061])\ntorch.Size([2127])\ntorch.Size([1992])\ntorch.Size([2373])\ntorch.Size([1764])\ntorch.Size([2226])\ntorch.Size([1980])\ntorch.Size([2208])\ntorch.Size([1965])\ntorch.Size([2133])\ntorch.Size([1899])\ntorch.Size([2028])\ntorch.Size([2319])\ntorch.Size([1938])\ntorch.Size([2040])\ntorch.Size([2040])\ntorch.Size([1899])\ntorch.Size([2142])\ntorch.Size([2268])\ntorch.Size([2286])\ntorch.Size([1878])\ntorch.Size([1956])\ntorch.Size([1977])\ntorch.Size([2019])\ntorch.Size([2031])\ntorch.Size([2274])\ntorch.Size([2172])\ntorch.Size([2025])\ntorch.Size([2199])\ntorch.Size([1806])\ntorch.Size([1938])\ntorch.Size([1992])\ntorch.Size([1857])\ntorch.Size([2088])\ntorch.Size([1875])\ntorch.Size([1692])\ntorch.Size([1986])\ntorch.Size([2226])\ntorch.Size([1989])\ntorch.Size([1722])\ntorch.Size([2118])\ntorch.Size([2238])\ntorch.Size([1920])\ntorch.Size([1878])\ntorch.Size([1854])\ntorch.Size([1839])\ntorch.Size([2106])\ntorch.Size([1944])\ntorch.Size([2238])\ntorch.Size([1962])\ntorch.Size([2268])\ntorch.Size([2136])\ntorch.Size([2163])\ntorch.Size([1971])\ntorch.Size([2046])\ntorch.Size([2652])\ntorch.Size([2007])\ntorch.Size([1749])\ntorch.Size([1860])\ntorch.Size([1878])\ntorch.Size([1845])\ntorch.Size([2055])\ntorch.Size([1887])\ntorch.Size([2193])\ntorch.Size([2115])\ntorch.Size([2220])\ntorch.Size([2127])\ntorch.Size([1995])\ntorch.Size([1863])\ntorch.Size([2190])\ntorch.Size([1869])\ntorch.Size([2130])\ntorch.Size([2157])\ntorch.Size([2007])\ntorch.Size([2049])\ntorch.Size([1863])\ntorch.Size([2109])\ntorch.Size([2049])\ntorch.Size([2085])\ntorch.Size([2136])\ntorch.Size([1845])\ntorch.Size([1827])\ntorch.Size([2148])\ntorch.Size([2007])\ntorch.Size([2172])\ntorch.Size([2064])\ntorch.Size([2244])\ntorch.Size([1806])\ntorch.Size([2280])\ntorch.Size([1959])\ntorch.Size([1935])\ntorch.Size([2148])\ntorch.Size([1911])\ntorch.Size([2409])\ntorch.Size([2082])\ntorch.Size([2235])\ntorch.Size([1848])\ntorch.Size([2040])\ntorch.Size([2133])\ntorch.Size([1884])\ntorch.Size([2088])\ntorch.Size([1998])\ntorch.Size([2292])\ntorch.Size([1803])\ntorch.Size([2013])\ntorch.Size([2049])\ntorch.Size([1887])\ntorch.Size([1770])\ntorch.Size([1902])\ntorch.Size([2223])\ntorch.Size([2394])\ntorch.Size([1980])\ntorch.Size([1995])\ntorch.Size([1953])\ntorch.Size([1818])\ntorch.Size([2097])\ntorch.Size([2139])\ntorch.Size([2037])\ntorch.Size([1797])\ntorch.Size([2133])\ntorch.Size([2445])\ntorch.Size([1806])\ntorch.Size([2097])\ntorch.Size([2160])\ntorch.Size([2037])\ntorch.Size([2097])\ntorch.Size([1776])\ntorch.Size([1866])\ntorch.Size([1812])\ntorch.Size([2118])\ntorch.Size([2022])\ntorch.Size([2046])\ntorch.Size([1899])\ntorch.Size([1959])\ntorch.Size([1962])\ntorch.Size([1962])\ntorch.Size([2385])\ntorch.Size([2601])\ntorch.Size([2049])\ntorch.Size([1926])\ntorch.Size([1872])\ntorch.Size([2184])\ntorch.Size([2061])\ntorch.Size([2196])\ntorch.Size([2250])\ntorch.Size([2268])\ntorch.Size([1980])\ntorch.Size([2307])\ntorch.Size([2136])\ntorch.Size([2040])\ntorch.Size([2061])\ntorch.Size([2160])\ntorch.Size([2139])\ntorch.Size([2118])\ntorch.Size([2001])\ntorch.Size([1869])\ntorch.Size([1989])\ntorch.Size([2019])\ntorch.Size([1854])\ntorch.Size([2136])\ntorch.Size([2268])\ntorch.Size([2001])\ntorch.Size([2016])\ntorch.Size([1998])\ntorch.Size([2235])\ntorch.Size([2076])\ntorch.Size([1932])\ntorch.Size([1806])\ntorch.Size([1971])\ntorch.Size([2100])\ntorch.Size([1887])\ntorch.Size([2040])\ntorch.Size([2085])\ntorch.Size([2022])\ntorch.Size([1908])\ntorch.Size([2127])\ntorch.Size([2100])\ntorch.Size([2235])\ntorch.Size([1914])\ntorch.Size([1773])\ntorch.Size([2163])\ntorch.Size([2127])\ntorch.Size([2274])\ntorch.Size([2076])\ntorch.Size([2022])\ntorch.Size([2016])\ntorch.Size([2307])\ntorch.Size([2136])\ntorch.Size([2307])\ntorch.Size([1917])\ntorch.Size([1899])\ntorch.Size([1920])\ntorch.Size([1968])\ntorch.Size([1941])\ntorch.Size([1884])\ntorch.Size([1881])\ntorch.Size([1848])\ntorch.Size([2199])\ntorch.Size([2028])\ntorch.Size([1860])\ntorch.Size([1734])\ntorch.Size([2478])\ntorch.Size([1995])\ntorch.Size([2208])\ntorch.Size([2040])\ntorch.Size([1932])\ntorch.Size([1770])\ntorch.Size([2145])\ntorch.Size([2145])\ntorch.Size([1941])\ntorch.Size([2016])\ntorch.Size([2181])\ntorch.Size([2307])\ntorch.Size([2085])\ntorch.Size([2067])\ntorch.Size([1842])\ntorch.Size([1941])\ntorch.Size([2010])\ntorch.Size([1896])\ntorch.Size([2025])\ntorch.Size([1818])\ntorch.Size([1983])\ntorch.Size([2139])\ntorch.Size([2136])\ntorch.Size([2094])\ntorch.Size([1959])\ntorch.Size([2070])\ntorch.Size([2040])\ntorch.Size([1938])\ntorch.Size([2418])\ntorch.Size([2061])\ntorch.Size([2055])\ntorch.Size([1797])\ntorch.Size([2133])\ntorch.Size([2238])\ntorch.Size([1830])\ntorch.Size([2304])\ntorch.Size([1881])\ntorch.Size([1983])\ntorch.Size([1953])\ntorch.Size([2097])\ntorch.Size([2157])\ntorch.Size([2100])\ntorch.Size([1977])\ntorch.Size([1950])\ntorch.Size([1905])\ntorch.Size([2337])\ntorch.Size([1947])\ntorch.Size([1890])\ntorch.Size([2022])\ntorch.Size([2076])\ntorch.Size([2385])\ntorch.Size([2172])\ntorch.Size([2382])\ntorch.Size([1842])\ntorch.Size([1866])\ntorch.Size([1938])\ntorch.Size([2493])\ntorch.Size([2139])\ntorch.Size([1992])\ntorch.Size([2358])\ntorch.Size([2286])\ntorch.Size([1839])\ntorch.Size([2019])\ntorch.Size([2022])\ntorch.Size([2007])\ntorch.Size([2079])\ntorch.Size([2073])\ntorch.Size([2100])\ntorch.Size([2001])\ntorch.Size([2226])\ntorch.Size([2154])\ntorch.Size([2040])\ntorch.Size([2130])\ntorch.Size([2028])\ntorch.Size([1878])\ntorch.Size([1923])\ntorch.Size([1968])\ntorch.Size([1974])\ntorch.Size([2019])\ntorch.Size([2151])\ntorch.Size([2082])\ntorch.Size([2061])\ntorch.Size([2067])\ntorch.Size([2010])\ntorch.Size([2193])\ntorch.Size([2349])\ntorch.Size([2268])\ntorch.Size([2133])\ntorch.Size([1935])\ntorch.Size([2013])\ntorch.Size([1983])\ntorch.Size([1902])\ntorch.Size([2172])\ntorch.Size([2118])\ntorch.Size([2031])\ntorch.Size([1881])\ntorch.Size([1953])\ntorch.Size([2157])\ntorch.Size([2421])\ntorch.Size([2055])\ntorch.Size([2001])\ntorch.Size([2151])\ntorch.Size([2022])\ntorch.Size([2031])\ntorch.Size([2079])\ntorch.Size([1830])\ntorch.Size([1968])\ntorch.Size([2079])\ntorch.Size([2049])\ntorch.Size([1932])\ntorch.Size([2193])\ntorch.Size([1788])\ntorch.Size([2025])\ntorch.Size([2502])\ntorch.Size([1977])\ntorch.Size([1809])\ntorch.Size([2094])\ntorch.Size([1953])\ntorch.Size([2082])\ntorch.Size([2211])\ntorch.Size([1773])\ntorch.Size([1896])\ntorch.Size([1989])\ntorch.Size([1944])\ntorch.Size([2028])\ntorch.Size([1971])\ntorch.Size([2076])\ntorch.Size([1932])\ntorch.Size([1944])\ntorch.Size([1986])\ntorch.Size([1911])\ntorch.Size([2064])\ntorch.Size([2139])\ntorch.Size([1983])\ntorch.Size([2046])\ntorch.Size([2019])\ntorch.Size([2124])\ntorch.Size([1863])\ntorch.Size([1980])\ntorch.Size([1821])\ntorch.Size([2070])\ntorch.Size([1914])\ntorch.Size([1890])\ntorch.Size([2178])\ntorch.Size([2463])\ntorch.Size([1932])\ntorch.Size([1827])\ntorch.Size([2043])\ntorch.Size([2097])\ntorch.Size([1983])\ntorch.Size([1965])\ntorch.Size([2229])\ntorch.Size([2064])\ntorch.Size([1992])\ntorch.Size([2205])\ntorch.Size([1824])\ntorch.Size([2136])\ntorch.Size([2184])\ntorch.Size([2106])\ntorch.Size([2067])\ntorch.Size([2043])\ntorch.Size([1953])\ntorch.Size([2100])\ntorch.Size([2403])\ntorch.Size([2199])\ntorch.Size([1887])\ntorch.Size([1836])\ntorch.Size([1794])\ntorch.Size([2106])\ntorch.Size([2361])\ntorch.Size([1977])\ntorch.Size([2292])\ntorch.Size([1998])\ntorch.Size([2112])\ntorch.Size([1959])\ntorch.Size([2253])\ntorch.Size([1965])\ntorch.Size([1983])\ntorch.Size([2241])\ntorch.Size([1995])\ntorch.Size([1950])\ntorch.Size([2097])\ntorch.Size([2184])\ntorch.Size([1794])\ntorch.Size([1899])\ntorch.Size([1938])\ntorch.Size([2019])\ntorch.Size([1986])\ntorch.Size([1974])\ntorch.Size([1779])\ntorch.Size([1887])\ntorch.Size([2232])\ntorch.Size([1893])\ntorch.Size([2073])\ntorch.Size([1878])\ntorch.Size([2172])\ntorch.Size([1764])\ntorch.Size([2031])\ntorch.Size([1722])\ntorch.Size([1773])\ntorch.Size([1893])\ntorch.Size([1977])\ntorch.Size([2010])\ntorch.Size([2121])\ntorch.Size([1917])\ntorch.Size([1824])\ntorch.Size([2118])\ntorch.Size([2043])\ntorch.Size([2010])\ntorch.Size([2262])\ntorch.Size([2106])\ntorch.Size([2007])\ntorch.Size([2130])\ntorch.Size([1839])\ntorch.Size([2028])\ntorch.Size([2199])\ntorch.Size([2151])\ntorch.Size([1818])\ntorch.Size([2025])\ntorch.Size([1968])\ntorch.Size([2121])\ntorch.Size([2082])\ntorch.Size([1914])\ntorch.Size([2205])\ntorch.Size([2016])\ntorch.Size([2025])\ntorch.Size([1992])\ntorch.Size([1938])\ntorch.Size([1989])\ntorch.Size([2271])\ntorch.Size([1959])\ntorch.Size([2271])\ntorch.Size([2148])\ntorch.Size([1902])\ntorch.Size([2226])\ntorch.Size([2280])\ntorch.Size([1869])\ntorch.Size([1881])\ntorch.Size([1938])\ntorch.Size([1929])\ntorch.Size([1968])\ntorch.Size([1875])\ntorch.Size([1989])\ntorch.Size([2193])\ntorch.Size([2010])\ntorch.Size([2007])\ntorch.Size([2010])\ntorch.Size([2163])\ntorch.Size([2265])\ntorch.Size([1818])\ntorch.Size([2493])\ntorch.Size([2151])\ntorch.Size([2124])\ntorch.Size([2013])\ntorch.Size([1896])\ntorch.Size([2151])\ntorch.Size([2016])\ntorch.Size([2001])\ntorch.Size([2142])\ntorch.Size([1824])\ntorch.Size([1995])\ntorch.Size([2376])\ntorch.Size([2007])\ntorch.Size([1839])\ntorch.Size([1740])\ntorch.Size([2034])\ntorch.Size([2082])\ntorch.Size([1926])\ntorch.Size([2106])\ntorch.Size([2151])\ntorch.Size([1914])\ntorch.Size([2244])\ntorch.Size([2139])\ntorch.Size([1842])\ntorch.Size([1962])\ntorch.Size([2052])\ntorch.Size([1935])\ntorch.Size([1800])\ntorch.Size([1809])\ntorch.Size([2013])\ntorch.Size([2022])\ntorch.Size([2142])\ntorch.Size([2067])\ntorch.Size([2106])\ntorch.Size([1971])\ntorch.Size([2049])\ntorch.Size([2016])\ntorch.Size([1902])\ntorch.Size([1974])\ntorch.Size([2067])\ntorch.Size([2181])\ntorch.Size([2118])\ntorch.Size([2079])\ntorch.Size([2037])\ntorch.Size([1869])\ntorch.Size([2124])\ntorch.Size([2193])\ntorch.Size([2190])\ntorch.Size([1821])\ntorch.Size([2100])\ntorch.Size([2193])\ntorch.Size([1989])\ntorch.Size([1935])\ntorch.Size([2001])\ntorch.Size([2334])\ntorch.Size([1899])\ntorch.Size([2049])\ntorch.Size([1911])\ntorch.Size([2061])\ntorch.Size([1935])\ntorch.Size([2043])\ntorch.Size([1995])\ntorch.Size([1821])\ntorch.Size([1992])\ntorch.Size([1929])\ntorch.Size([1980])\ntorch.Size([1881])\ntorch.Size([2058])\ntorch.Size([1836])\ntorch.Size([1875])\ntorch.Size([2223])\ntorch.Size([1989])\ntorch.Size([1992])\ntorch.Size([2040])\ntorch.Size([1890])\ntorch.Size([2070])\ntorch.Size([1761])\ntorch.Size([1896])\ntorch.Size([2115])\ntorch.Size([2088])\ntorch.Size([2013])\ntorch.Size([2103])\ntorch.Size([2265])\ntorch.Size([2163])\ntorch.Size([1713])\ntorch.Size([2067])\ntorch.Size([1962])\ntorch.Size([2292])\ntorch.Size([1842])\ntorch.Size([1890])\ntorch.Size([2034])\ntorch.Size([2037])\ntorch.Size([2082])\ntorch.Size([2139])\ntorch.Size([1875])\ntorch.Size([2046])\ntorch.Size([1980])\ntorch.Size([2109])\ntorch.Size([1881])\ntorch.Size([2082])\ntorch.Size([2058])\ntorch.Size([2268])\ntorch.Size([2073])\ntorch.Size([2019])\ntorch.Size([1848])\ntorch.Size([2034])\ntorch.Size([1998])\ntorch.Size([2022])\ntorch.Size([1977])\ntorch.Size([1974])\ntorch.Size([2043])\ntorch.Size([2292])\ntorch.Size([2166])\ntorch.Size([1833])\ntorch.Size([2040])\ntorch.Size([1920])\ntorch.Size([1908])\ntorch.Size([2088])\ntorch.Size([2406])\ntorch.Size([2163])\ntorch.Size([2244])\ntorch.Size([1962])\ntorch.Size([1890])\ntorch.Size([1968])\ntorch.Size([2079])\ntorch.Size([2106])\ntorch.Size([2046])\ntorch.Size([2010])\ntorch.Size([1761])\ntorch.Size([2016])\ntorch.Size([1866])\ntorch.Size([2058])\ntorch.Size([2229])\ntorch.Size([2070])\ntorch.Size([2001])\ntorch.Size([2031])\ntorch.Size([1968])\ntorch.Size([2223])\ntorch.Size([2133])\ntorch.Size([2127])\ntorch.Size([2073])\ntorch.Size([2013])\ntorch.Size([2019])\ntorch.Size([1908])\ntorch.Size([2220])\ntorch.Size([1755])\ntorch.Size([1905])\ntorch.Size([2016])\ntorch.Size([1974])\ntorch.Size([2121])\ntorch.Size([2058])\ntorch.Size([2055])\ntorch.Size([1980])\ntorch.Size([1950])\ntorch.Size([2061])\ntorch.Size([2031])\ntorch.Size([1938])\ntorch.Size([2028])\ntorch.Size([1932])\ntorch.Size([2001])\ntorch.Size([2223])\ntorch.Size([2145])\ntorch.Size([1911])\ntorch.Size([1686])\ntorch.Size([2199])\ntorch.Size([1779])\ntorch.Size([2256])\ntorch.Size([2112])\ntorch.Size([2124])\ntorch.Size([2202])\ntorch.Size([2076])\ntorch.Size([2115])\ntorch.Size([2148])\ntorch.Size([2040])\ntorch.Size([2010])\ntorch.Size([1854])\ntorch.Size([2463])\ntorch.Size([1929])\ntorch.Size([1995])\ntorch.Size([2055])\ntorch.Size([2055])\ntorch.Size([2031])\ntorch.Size([2058])\ntorch.Size([2157])\ntorch.Size([2163])\ntorch.Size([1785])\ntorch.Size([1941])\ntorch.Size([2007])\ntorch.Size([2046])\ntorch.Size([1956])\ntorch.Size([2139])\ntorch.Size([1791])\ntorch.Size([1956])\ntorch.Size([2028])\ntorch.Size([1998])\ntorch.Size([2157])\ntorch.Size([2079])\ntorch.Size([2238])\ntorch.Size([2340])\ntorch.Size([2163])\ntorch.Size([1887])\ntorch.Size([2142])\ntorch.Size([2142])\ntorch.Size([1929])\ntorch.Size([1971])\ntorch.Size([2028])\ntorch.Size([1938])\ntorch.Size([1854])\ntorch.Size([2019])\ntorch.Size([1860])\ntorch.Size([2373])\ntorch.Size([1794])\ntorch.Size([1968])\ntorch.Size([1950])\ntorch.Size([1797])\ntorch.Size([1971])\ntorch.Size([2076])\ntorch.Size([2199])\ntorch.Size([2049])\ntorch.Size([1926])\ntorch.Size([1857])\ntorch.Size([1869])\ntorch.Size([1962])\ntorch.Size([1995])\ntorch.Size([2067])\ntorch.Size([2067])\ntorch.Size([2184])\ntorch.Size([1998])\ntorch.Size([1977])\ntorch.Size([1959])\ntorch.Size([1962])\ntorch.Size([2076])\ntorch.Size([1884])\ntorch.Size([1854])\ntorch.Size([2337])\ntorch.Size([2031])\ntorch.Size([1932])\ntorch.Size([2187])\ntorch.Size([1830])\ntorch.Size([1995])\ntorch.Size([1749])\ntorch.Size([2238])\ntorch.Size([1977])\ntorch.Size([1929])\ntorch.Size([1827])\ntorch.Size([1890])\ntorch.Size([1968])\ntorch.Size([1977])\ntorch.Size([2010])\ntorch.Size([2046])\ntorch.Size([1776])\ntorch.Size([1770])\ntorch.Size([1986])\ntorch.Size([2154])\ntorch.Size([2394])\ntorch.Size([1884])\ntorch.Size([1965])\ntorch.Size([1908])\ntorch.Size([1941])\ntorch.Size([1968])\ntorch.Size([1992])\ntorch.Size([1959])\ntorch.Size([2565])\ntorch.Size([2049])\ntorch.Size([2589])\ntorch.Size([1818])\ntorch.Size([2202])\ntorch.Size([2046])\ntorch.Size([1866])\ntorch.Size([2319])\ntorch.Size([1923])\ntorch.Size([2112])\ntorch.Size([1872])\ntorch.Size([2121])\ntorch.Size([1968])\ntorch.Size([1884])\ntorch.Size([2097])\ntorch.Size([2277])\ntorch.Size([1884])\ntorch.Size([1947])\ntorch.Size([1944])\ntorch.Size([2046])\ntorch.Size([1971])\ntorch.Size([1959])\ntorch.Size([2391])\ntorch.Size([2253])\ntorch.Size([2025])\ntorch.Size([1953])\ntorch.Size([2130])\ntorch.Size([2346])\ntorch.Size([1800])\ntorch.Size([1899])\ntorch.Size([2157])\ntorch.Size([1809])\ntorch.Size([2112])\ntorch.Size([2037])\ntorch.Size([1986])\ntorch.Size([2016])\ntorch.Size([1953])\ntorch.Size([1950])\ntorch.Size([1878])\ntorch.Size([2139])\ntorch.Size([2328])\ntorch.Size([2520])\ntorch.Size([2115])\ntorch.Size([2238])\ntorch.Size([1902])\ntorch.Size([1863])\ntorch.Size([2214])\ntorch.Size([2121])\ntorch.Size([1938])\ntorch.Size([1995])\ntorch.Size([2058])\ntorch.Size([2031])\ntorch.Size([2061])\ntorch.Size([2205])\ntorch.Size([2049])\ntorch.Size([1974])\ntorch.Size([1989])\ntorch.Size([2145])\ntorch.Size([1959])\ntorch.Size([1947])\ntorch.Size([2040])\ntorch.Size([2289])\ntorch.Size([2130])\ntorch.Size([2133])\ntorch.Size([1845])\ntorch.Size([2100])\ntorch.Size([1938])\ntorch.Size([2121])\ntorch.Size([1896])\ntorch.Size([1986])\ntorch.Size([2076])\ntorch.Size([1962])\ntorch.Size([1650])\ntorch.Size([1830])\ntorch.Size([1983])\ntorch.Size([2160])\ntorch.Size([2118])\ntorch.Size([2190])\ntorch.Size([1887])\ntorch.Size([1899])\ntorch.Size([1905])\ntorch.Size([1941])\ntorch.Size([1872])\ntorch.Size([2079])\ntorch.Size([2301])\ntorch.Size([2223])\ntorch.Size([1932])\ntorch.Size([2277])\ntorch.Size([2220])\ntorch.Size([1923])\ntorch.Size([2094])\ntorch.Size([2025])\ntorch.Size([1848])\ntorch.Size([2064])\ntorch.Size([1896])\ntorch.Size([2058])\ntorch.Size([2106])\ntorch.Size([2244])\ntorch.Size([2088])\ntorch.Size([1896])\ntorch.Size([1962])\ntorch.Size([1914])\ntorch.Size([1785])\ntorch.Size([2148])\ntorch.Size([2049])\ntorch.Size([2127])\ntorch.Size([1908])\ntorch.Size([2025])\ntorch.Size([1797])\ntorch.Size([1770])\ntorch.Size([2394])\ntorch.Size([1770])\ntorch.Size([2043])\ntorch.Size([2415])\ntorch.Size([1986])\ntorch.Size([1884])\ntorch.Size([2361])\ntorch.Size([1890])\ntorch.Size([2283])\ntorch.Size([2010])\ntorch.Size([2004])\ntorch.Size([2190])\ntorch.Size([1908])\ntorch.Size([1914])\ntorch.Size([2127])\ntorch.Size([2061])\ntorch.Size([2154])\ntorch.Size([1923])\ntorch.Size([2097])\ntorch.Size([1950])\ntorch.Size([1818])\ntorch.Size([1896])\ntorch.Size([1878])\ntorch.Size([2088])\ntorch.Size([1986])\ntorch.Size([1971])\ntorch.Size([1893])\ntorch.Size([1941])\ntorch.Size([2028])\ntorch.Size([2019])\ntorch.Size([1944])\ntorch.Size([1896])\ntorch.Size([2028])\ntorch.Size([2154])\ntorch.Size([1995])\ntorch.Size([2043])\ntorch.Size([2028])\ntorch.Size([2073])\ntorch.Size([1968])\ntorch.Size([2256])\ntorch.Size([1977])\ntorch.Size([1932])\ntorch.Size([1917])\ntorch.Size([2031])\ntorch.Size([2019])\ntorch.Size([1857])\ntorch.Size([1953])\ntorch.Size([2229])\ntorch.Size([1899])\ntorch.Size([2118])\ntorch.Size([2148])\ntorch.Size([1911])\ntorch.Size([2037])\ntorch.Size([2163])\ntorch.Size([1944])\ntorch.Size([1893])\ntorch.Size([1857])\nEpoch: 5  | time in 0 minutes, 17 seconds\n\tLoss: 0.0012 (train)\t|\t Acc: 99.6 (train)\n\tLoss: 0.0000 (val)\t|\t Acc: 91.4 (val)\n"
    }
   ],
   "source": [
    "import time\n",
    "from torch.utils.data.dataset import random_split\n",
    "N_EPOCHS = 5\n",
    "min_valid_loss = float('inf')\n",
    "\n",
    "criterion = torch.nn.CrossEntropyLoss().to(device)\n",
    "optimizer = torch.optim.SGD(model.parameters(), lr=4.0)\n",
    "scheduler = torch.optim.lr_scheduler.StepLR(optimizer, 1, gamma=0.9)\n",
    "\n",
    "train_len = int(len(train_dataset) * 0.95)\n",
    "sub_train_, sub_valid_ = \\\n",
    "    random_split(train_dataset, [train_len, len(train_dataset) - train_len])\n",
    "\n",
    "for epoch in range(N_EPOCHS):\n",
    "\n",
    "    start_time = time.time()\n",
    "    train_loss, train_acc = train_func(sub_train_)\n",
    "    valid_loss, valid_acc = test(sub_valid_)\n",
    "\n",
    "    secs = int(time.time() - start_time)\n",
    "    mins = secs / 60\n",
    "    secs = secs % 60\n",
    "\n",
    "    print('Epoch: %d' %(epoch + 1), \" | time in %d minutes, %d seconds\" %(mins, secs))\n",
    "    print(\"\\tLoss: %.4f (train)\\t|\\t Acc: %.1f (train)\"%(train_loss, train_acc * 100))\n",
    "    print(\"\\tLoss: %.4f (val)\\t|\\t Acc: %.1f (val)\"%(valid_loss, valid_acc * 100))"
   ]
  },
  {
   "cell_type": "code",
   "execution_count": 10,
   "metadata": {
    "tags": []
   },
   "outputs": [
    {
     "output_type": "stream",
     "name": "stdout",
     "text": "Checking the results of test dataset...\n\tLoss: 0.0007 (test)\t|\t Acc: 75.1 (test)\n"
    }
   ],
   "source": [
    "print('Checking the results of test dataset...')\n",
    "test_loss, test_acc = test(test_dataset)\n",
    "print(\"\\tLoss: %.4f (test)\\t|\\t Acc: %.1f (test)\"%(test_loss, test_acc * 100))"
   ]
  },
  {
   "cell_type": "code",
   "execution_count": 13,
   "metadata": {
    "tags": []
   },
   "outputs": [
    {
     "output_type": "stream",
     "name": "stdout",
     "text": "token:  ['memphis', ',', 'tenn', '.', '–', 'four', 'days', 'ago', ',', 'jon', 'rahm', 'was', 'enduring', 'the', 'season’s', 'worst', 'weather', 'conditions', 'on', 'sunday', 'at', 'the', 'open', 'on', 'his', 'way', 'to', 'a', 'closing', '75', 'at', 'royal', 'portrush', ',', 'which', 'considering', 'the', 'wind', 'and', 'the', 'rain', 'was', 'a', 'respectable', 'showing', '.', 'thursday’s', 'first', 'round', 'at', 'the', 'wgc-fedex', 'st', '.', 'jude', 'invitational', 'was', 'another', 'story', '.', 'with', 'temperatures', 'in', 'the', 'mid-80s', 'and', 'hardly', 'any', 'wind', ',', 'the', 'spaniard', 'was', '13', 'strokes', 'better', 'in', 'a', 'flawless', 'round', '.', 'thanks', 'to', 'his', 'best', 'putting', 'performance', 'on', 'the', 'pga', 'tour', ',', 'rahm', 'finished', 'with', 'an', '8-under', '62', 'for', 'a', 'three-stroke', 'lead', ',', 'which', 'was', 'even', 'more', 'impressive', 'considering', 'he’d', 'never', 'played', 'the', 'front', 'nine', 'at', 'tpc', 'southwind', '.']\nngram ['memphis', ',', 'tenn', '.', '–', 'four', 'days', 'ago', ',', 'jon', 'rahm', 'was', 'enduring', 'the', 'season’s', 'worst', 'weather', 'conditions', 'on', 'sunday', 'at', 'the', 'open', 'on', 'his', 'way', 'to', 'a', 'closing', '75', 'at', 'royal', 'portrush', ',', 'which', 'considering', 'the', 'wind', 'and', 'the', 'rain', 'was', 'a', 'respectable', 'showing', '.', 'thursday’s', 'first', 'round', 'at', 'the', 'wgc-fedex', 'st', '.', 'jude', 'invitational', 'was', 'another', 'story', '.', 'with', 'temperatures', 'in', 'the', 'mid-80s', 'and', 'hardly', 'any', 'wind', ',', 'the', 'spaniard', 'was', '13', 'strokes', 'better', 'in', 'a', 'flawless', 'round', '.', 'thanks', 'to', 'his', 'best', 'putting', 'performance', 'on', 'the', 'pga', 'tour', ',', 'rahm', 'finished', 'with', 'an', '8-under', '62', 'for', 'a', 'three-stroke', 'lead', ',', 'which', 'was', 'even', 'more', 'impressive', 'considering', 'he’d', 'never', 'played', 'the', 'front', 'nine', 'at', 'tpc', 'southwind', '.', 'memphis ,', ', tenn', 'tenn .', '. –', '– four', 'four days', 'days ago', 'ago ,', ', jon', 'jon rahm', 'rahm was', 'was enduring', 'enduring the', 'the season’s', 'season’s worst', 'worst weather', 'weather conditions', 'conditions on', 'on sunday', 'sunday at', 'at the', 'the open', 'open on', 'on his', 'his way', 'way to', 'to a', 'a closing', 'closing 75', '75 at', 'at royal', 'royal portrush', 'portrush ,', ', which', 'which considering', 'considering the', 'the wind', 'wind and', 'and the', 'the rain', 'rain was', 'was a', 'a respectable', 'respectable showing', 'showing .', '. thursday’s', 'thursday’s first', 'first round', 'round at', 'at the', 'the wgc-fedex', 'wgc-fedex st', 'st .', '. jude', 'jude invitational', 'invitational was', 'was another', 'another story', 'story .', '. with', 'with temperatures', 'temperatures in', 'in the', 'the mid-80s', 'mid-80s and', 'and hardly', 'hardly any', 'any wind', 'wind ,', ', the', 'the spaniard', 'spaniard was', 'was 13', '13 strokes', 'strokes better', 'better in', 'in a', 'a flawless', 'flawless round', 'round .', '. thanks', 'thanks to', 'to his', 'his best', 'best putting', 'putting performance', 'performance on', 'on the', 'the pga', 'pga tour', 'tour ,', ', rahm', 'rahm finished', 'finished with', 'with an', 'an 8-under', '8-under 62', '62 for', 'for a', 'a three-stroke', 'three-stroke lead', 'lead ,', ', which', 'which was', 'was even', 'even more', 'more impressive', 'impressive considering', 'considering he’d', 'he’d never', 'never played', 'played the', 'the front', 'front nine', 'nine at', 'at tpc', 'tpc southwind', 'southwind .']\ntensor([   5619,       4,   16808,       2,       0,     228,     431,     506,\n              4,   10139,       0,      41,   50467,       3,       0,    2497,\n           2181,    3337,      11,     131,      22,       3,     213,      11,\n             38,     356,       5,       6,    3087,    4581,      22,    2684,\n        3088284,       4,     144,    3017,       3,    5457,       9,       3,\n           2485,      41,       6,  106871,    2582,       2,       0,      58,\n            602,      22,       3,       0,     601,       2,  171013,   14091,\n             41,     292,    2976,       2,      20,   16548,       8,       3,\n              0,       9,   13083,     644,    5457,       4,       3,   15805,\n             41,    1047,   10811,     916,       8,       6,   65851,     602,\n              2,    2889,       5,      38,     703,    3370,    1210,      11,\n              3,    3381,    1020,       4,       0,    3299,      20,      35,\n          68847,    8069,      12,       6,   45369,     239,       4,     144,\n             41,     482,      57,    7727,    3017,       0,    1409,    1869,\n              3,    2222,    1138,      22,   68136,       0,       2,   35832,\n          20592,   16809,       0,       0,    9235,    9941,    1616,   91600,\n              0,       0,       0,  731153,       0,       0,       0,  219882,\n          86300,     379,   10163,     112,    7234,    5340,    1532,    9953,\n           1516,     128,   85059,       0, 1291272,  649905,       0,       0,\n            261,       0,   48124,   43517,   31200,     162,   28688,  345555,\n           1270,  392688,       0,  352823,       0,       0,    3827,   25908,\n            112,       0,       0,     715,  588092,       0, 2496027,   64195,\n         638964,   29378,    4275, 3997280,   77296,      26,       0,       0,\n        1462927, 2316571,       0,   60621,      42,   54393,  973183, 1051124,\n              0,       0,   74127,      72,  226959,  748371,   15789,   78717,\n           3647,    1860,   15502,       0, 3150968,   63102,      87,    9002,\n           6425,   40316,       0,       0,   24468,    1578,   92547,       0,\n         226122,     169,   45804,   72456,   19589,     261,    6183,  136674,\n          10118,  172734,       0,       0,       0,  205889,   51268,   19015,\n         315377, 2845045,  101626,       0,       0])\nThis is a Sports news\n"
    }
   ],
   "source": [
    "import re\n",
    "from torchtext.data.utils import ngrams_iterator\n",
    "from torchtext.data.utils import get_tokenizer\n",
    "\n",
    "ag_news_label = {1 : \"World\",\n",
    "                 2 : \"Sports\",\n",
    "                 3 : \"Business\",\n",
    "                 4 : \"Sci/Tec\"}\n",
    "\n",
    "def predict(text, model, vocab, ngrams):\n",
    "    tokenizer = get_tokenizer(\"basic_english\")\n",
    "    with torch.no_grad():\n",
    "        print(\"token: \", tokenizer(text))\n",
    "        print(\"ngram\", [token for token in ngrams_iterator(tokenizer(text), ngrams)])\n",
    "        text = torch.tensor([vocab[token]\n",
    "                            for token in ngrams_iterator(tokenizer(text), ngrams)])\n",
    "        print(text)\n",
    "        \n",
    "        output = model(text, torch.tensor([0]))\n",
    "        return output.argmax(1).item() + 1\n",
    "\n",
    "ex_text_str = \"MEMPHIS, Tenn. – Four days ago, Jon Rahm was \\\n",
    "    enduring the season’s worst weather conditions on Sunday at The \\\n",
    "    Open on his way to a closing 75 at Royal Portrush, which \\\n",
    "    considering the wind and the rain was a respectable showing. \\\n",
    "    Thursday’s first round at the WGC-FedEx St. Jude Invitational \\\n",
    "    was another story. With temperatures in the mid-80s and hardly any \\\n",
    "    wind, the Spaniard was 13 strokes better in a flawless round. \\\n",
    "    Thanks to his best putting performance on the PGA Tour, Rahm \\\n",
    "    finished with an 8-under 62 for a three-stroke lead, which \\\n",
    "    was even more impressive considering he’d never played the \\\n",
    "    front nine at TPC Southwind.\"\n",
    "\n",
    "vocab = train_dataset.get_vocab()\n",
    "model = model.to(\"cpu\")\n",
    "\n",
    "print(\"This is a %s news\" %ag_news_label[predict(ex_text_str, model, vocab, 2)])"
   ]
  },
  {
   "cell_type": "code",
   "execution_count": null,
   "metadata": {},
   "outputs": [],
   "source": []
  }
 ]
}